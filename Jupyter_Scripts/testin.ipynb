{
 "cells": [
  {
   "cell_type": "code",
   "execution_count": null,
   "metadata": {},
   "outputs": [],
   "source": [
    "import os\n",
    "import pandas as pd \n",
    "import json\n",
    "import re\n",
    "import locale\n",
    "locale.setlocale(locale.LC_ALL, 'gb_GB')\n",
    "\n",
    "\n",
    "paths = [\n",
    "    \"C:/Users/Ross/Documents/BODS Project/BODS/Nottingham City Transport Ltd_25 JSON/Single Ticket/Inbound/Adult\",\n",
    "    \"C:/Users/Ross/Documents/BODS Project/BODS/Nottingham City Transport Ltd_25 JSON/Single Ticket/Inbound/Child\",\n",
    "    \"C:/Users/Ross/Documents/BODS Project/BODS/Nottingham City Transport Ltd_25 JSON/Single Ticket/Inbound/Student\",\n",
    "    \"C:/Users/Ross/Documents/BODS Project/BODS/Nottingham City Transport Ltd_25 JSON/Single Ticket/Outbound/Adult\",\n",
    "    \"C:/Users/Ross/Documents/BODS Project/BODS/Nottingham City Transport Ltd_25 JSON/Single Ticket/Outbound/Child\",\n",
    "    \"C:/Users/Ross/Documents/BODS Project/BODS/Nottingham City Transport Ltd_25 JSON/Single Ticket/Outbound/Student\",\n",
    "]\n",
    "\n",
    "def open_json(*args):\n",
    "    for arg in args:\n",
    "        for x in arg:\n",
    "            for subdir, dirs, files in os.walk(x):    \n",
    "                for file in files:\n",
    "                    filepath = subdir + os.sep + file\n",
    "                    print(filepath)\n",
    "                    # test_json = open(filepath)\n",
    "                    # data = json.load(test_json)\n",
    "                    \n",
    "                    \n",
    "\n",
    "\n",
    "open_json(paths)\n",
    "\n",
    "\n",
    "\n",
    "\n"
   ]
  },
  {
   "cell_type": "code",
   "execution_count": null,
   "metadata": {},
   "outputs": [],
   "source": [
    "import os\n",
    "import pandas as pd \n",
    "import json\n",
    "import re\n",
    "import locale\n",
    "locale.setlocale(locale.LC_ALL, 'gb_GB')\n",
    "\n",
    "SRC = 'C:/Users/rosshamilton/OneDrive - KPMG/Documents/BODS Project/BODS/'\n",
    "\n",
    "for subdir, dirs, files in os.walk(SRC):\n",
    "    for file in files:\n",
    "        "
   ]
  }
 ],
 "metadata": {
  "kernelspec": {
   "display_name": "BODS",
   "language": "python",
   "name": "python3"
  },
  "language_info": {
   "codemirror_mode": {
    "name": "ipython",
    "version": 3
   },
   "file_extension": ".py",
   "mimetype": "text/x-python",
   "name": "python",
   "nbconvert_exporter": "python",
   "pygments_lexer": "ipython3",
   "version": "3.11.4"
  },
  "orig_nbformat": 4
 },
 "nbformat": 4,
 "nbformat_minor": 2
}
